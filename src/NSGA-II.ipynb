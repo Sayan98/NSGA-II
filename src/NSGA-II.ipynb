{
 "cells": [
  {
   "cell_type": "code",
   "execution_count": null,
   "metadata": {},
   "outputs": [],
   "source": [
    "import numpy\n",
    "import random"
   ]
  },
  {
   "cell_type": "code",
   "execution_count": 1,
   "metadata": {},
   "outputs": [],
   "source": [
    "class Candidate:\n",
    "    def __init__(self):\n",
    "        self.crowding_distance = 0\n",
    "        self.n_dominating = 0\n",
    "        self.n_dominated_by = 0\n",
    "        self.features = None\n"
   ]
  },
  {
   "cell_type": "code",
   "execution_count": null,
   "metadata": {},
   "outputs": [],
   "source": [
    "class Problem:\n",
    "    def __init__(self, objectives, bounds, dims):\n",
    "        self.objectives = objectives\n",
    "        self.bounds = bounds\n",
    "        self.dims = dims\n",
    "        self.n = len(bounds)\n",
    "        \n",
    "    def generate_candidate(self):\n",
    "        candidate = Candidate()\n",
    "        candidate.features = []\n",
    "        \n",
    "        for idx in range(self.n):\n",
    "            candidate.features += random.uniform(self.bounds[idx][0], self.bounds[idx][1])\n",
    "            \n",
    "        return candidate\n"
   ]
  },
  {
   "cell_type": "code",
   "execution_count": 8,
   "metadata": {},
   "outputs": [],
   "source": [
    "class NSGA2:\n",
    "    def __init__(self, problem, pop_size, max_gen, cr, m, seed=42.0):\n",
    "        self.pop_size = pop_size        # Population size\n",
    "        self.max_gen = max_gen          # Max generations to evolve for\n",
    "        self.cr = cr                    # Cross-over probability\n",
    "        self.m = m                      # Mutation probability\n",
    "        self.eps = 1e-3                 # Mutation strength\n",
    "        self.seed = seed                # Random seed\n",
    "        \n",
    "        self.problem = problem          # Instance of the problem, ie. objective function/s\n",
    "        \n",
    "        self.population = None\n",
    "        \n",
    "        self.initialize()\n",
    "        \n",
    "    def initialize(self):\n",
    "        self.population = []\n",
    "        random.seed(self.seed)\n",
    "        \n",
    "        for idx in range(self.pop_size):\n",
    "            self.population += self.problem.generate_candidate()\n",
    "    \n",
    "    def _mutate(self, candidate, n=1):\n",
    "        for idx in range(len(candidate.features)):\n",
    "            if random.random() > self.m:\n",
    "                candidate.features[idx] += self.eps * (random.random() - 1) / 2\n",
    "                if candidate.features[idx] > self.problem.bounds[idx][1]:\n",
    "                    candidate.features[idx] = self.problem.bounds[idx][1]\n",
    "                elif candidate.features[idx] < self.problem.bounds[idx][0]:\n",
    "                    candidate.features[idx] = self.problem.bounds[idx][0]\n",
    "                    \n",
    "        return candidate\n",
    "    \n",
    "    def _crossover(self, candidateA, candidateB, n=1):\n",
    "        for idx in range(len(candidateA.features)):\n",
    "            if random.random() > self.cr:\n",
    "                candidateA.features[idx], candidateB.features[idx]\\\n",
    "                = candidateB.features[idx], candidateA.features[idx]\n",
    "                \n",
    "        return candidateA, candidateB\n",
    "        \n",
    "    def _non_dominated_sort(self):\n",
    "        pass\n",
    "    \n",
    "    def _crowding_distance(self, individual, front):\n",
    "        pass\n",
    "        \n",
    "    def solve(self):\n",
    "        pass\n",
    "        "
   ]
  },
  {
   "cell_type": "code",
   "execution_count": 3,
   "metadata": {},
   "outputs": [],
   "source": [
    "def f1(x):\n",
    "    return x ** 2\n",
    "\n",
    "def f2(x):\n",
    "    return (x - 2) ** 2\n",
    "\n",
    "objectives = [f1, f2]  "
   ]
  },
  {
   "cell_type": "code",
   "execution_count": null,
   "metadata": {},
   "outputs": [],
   "source": []
  },
  {
   "cell_type": "code",
   "execution_count": null,
   "metadata": {},
   "outputs": [],
   "source": []
  }
 ],
 "metadata": {
  "kernelspec": {
   "display_name": "Python 3",
   "language": "python",
   "name": "python3"
  },
  "language_info": {
   "codemirror_mode": {
    "name": "ipython",
    "version": 3
   },
   "file_extension": ".py",
   "mimetype": "text/x-python",
   "name": "python",
   "nbconvert_exporter": "python",
   "pygments_lexer": "ipython3",
   "version": "3.7.2"
  }
 },
 "nbformat": 4,
 "nbformat_minor": 2
}
